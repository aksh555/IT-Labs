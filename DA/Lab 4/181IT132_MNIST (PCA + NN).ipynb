{
 "cells": [
  {
   "cell_type": "markdown",
   "metadata": {},
   "source": [
    "### Import libraries"
   ]
  },
  {
   "cell_type": "code",
   "execution_count": 79,
   "metadata": {},
   "outputs": [],
   "source": [
    "%matplotlib inline\n",
    "import pandas as pd\n",
    "from sklearn.decomposition import PCA\n",
    "import numpy as np\n",
    "import matplotlib.pyplot as plt\n",
    "from sklearn.preprocessing import StandardScaler\n",
    "from keras.utils.np_utils import to_categorical\n",
    "from sklearn.preprocessing import StandardScaler\n",
    "from tensorflow.keras.layers import Input, InputLayer, Dense, Activation\n",
    "from tensorflow.keras.models import Sequential,Model\n",
    "from tensorflow.keras.optimizers import SGD\n",
    "from tensorflow.keras.callbacks import ModelCheckpoint,LearningRateScheduler\n",
    "import keras\n",
    "from tensorflow.keras import backend as K\n",
    "from scipy.linalg import eigh\n",
    "from sklearn import decomposition"
   ]
  },
  {
   "cell_type": "code",
   "execution_count": 113,
   "metadata": {},
   "outputs": [],
   "source": [
    "from keras.datasets import mnist\n",
    "(X_train, y_train), (X_test, y_test) = mnist.load_data()\n",
    "X_train.shape, y_train.shape, X_test.shape\n",
    "X_train = X_train.reshape(60000, 784)\n",
    "X_test = X_test.reshape(10000, 784)"
   ]
  },
  {
   "cell_type": "code",
   "execution_count": 114,
   "metadata": {},
   "outputs": [
    {
     "data": {
      "text/plain": [
       "((60000, 784), (60000,), (10000, 784))"
      ]
     },
     "execution_count": 114,
     "metadata": {},
     "output_type": "execute_result"
    }
   ],
   "source": [
    "X_train.shape, y_train.shape, X_test.shape"
   ]
  },
  {
   "cell_type": "markdown",
   "metadata": {},
   "source": [
    "### Data Normalization"
   ]
  },
  {
   "cell_type": "code",
   "execution_count": 115,
   "metadata": {},
   "outputs": [],
   "source": [
    "X_train = X_train/255\n",
    "X_test = X_test/255"
   ]
  },
  {
   "cell_type": "markdown",
   "metadata": {},
   "source": [
    "### PCA Implementation"
   ]
  },
  {
   "cell_type": "code",
   "execution_count": 116,
   "metadata": {},
   "outputs": [],
   "source": [
    "def pca():\n",
    "    standardized_scalar = StandardScaler()\n",
    "    standardized_data = standardized_scalar.fit_transform(X_train)\n",
    "    standardized_data.shape\n",
    "    # Calculate covariance matrix\n",
    "    cov_matrix = np.matmul(standardized_data.T, standardized_data)\n",
    "    # Calculate eigenvalues and eigenvectors\n",
    "    cov_matrix.shape\n",
    "    lambdas, vectors = eigh(cov_matrix, eigvals=(782, 783))\n",
    "    vectors = vectors.T\n",
    "    vectors.shape\n",
    "    #Calculate unit vectors U1=V1 and new coordinates\n",
    "    new_coordinates = np.matmul(vectors, standardized_data.T)\n",
    "    print(new_coordinates.shape)\n",
    "    new_coordinates = np.vstack((new_coordinates, y_train)).T\n",
    "    df_new = pd.DataFrame(new_coordinates, columns=[\"f1\", \"f2\", \"labels\"])\n",
    "    df_new.head()\n",
    "    pca = decomposition.PCA()\n",
    "    pca.n_components = 300\n",
    "    pca_data = pca.fit_transform(standardized_data)\n",
    "    percent_variance_retained = pca.explained_variance_ / np.sum(pca.explained_variance_)\n",
    "    cum_variance_retained = np.cumsum(percent_variance_retained)\n",
    "    plt.figure(1, figsize=(6, 3))\n",
    "    plt.clf()\n",
    "    plt.plot(cum_variance_retained, linewidth=2)\n",
    "    plt.axis(\"tight\")\n",
    "    plt.grid()\n",
    "    plt.xlabel(\"number of compoments\")\n",
    "    plt.ylabel(\"cumulative variance retained\")\n",
    "    plt.show()"
   ]
  },
  {
   "cell_type": "code",
   "execution_count": 117,
   "metadata": {},
   "outputs": [
    {
     "name": "stdout",
     "output_type": "stream",
     "text": [
      "(2, 60000)\n"
     ]
    },
    {
     "data": {
      "image/png": "[encoded data removed]",
      "text/plain": [
       "<Figure size 432x216 with 1 Axes>"
      ]
     },
     "metadata": {
      "needs_background": "light"
     },
     "output_type": "display_data"
    }
   ],
   "source": [
    "# Call when using PCA\n",
    "pca()"
   ]
  },
  {
   "cell_type": "markdown",
   "metadata": {},
   "source": [
    "### Preprocessing Data"
   ]
  },
  {
   "cell_type": "code",
   "execution_count": 118,
   "metadata": {},
   "outputs": [
    {
     "data": {
      "text/plain": [
       "(60000, 784)"
      ]
     },
     "execution_count": 118,
     "metadata": {},
     "output_type": "execute_result"
    }
   ],
   "source": [
    "X_train = np.array(X_train)\n",
    "y_train = np.array(y_train)\n",
    "X_train.shape"
   ]
  },
  {
   "cell_type": "code",
   "execution_count": 124,
   "metadata": {},
   "outputs": [
    {
     "data": {
      "text/plain": [
       "(60000, 10)"
      ]
     },
     "execution_count": 124,
     "metadata": {},
     "output_type": "execute_result"
    }
   ],
   "source": [
    "y_train.shape"
   ]
  },
  {
   "cell_type": "code",
   "execution_count": 119,
   "metadata": {
    "scrolled": false
   },
   "outputs": [],
   "source": [
    "# Encoding the labels and making them as the class value and finally converting them as categorical values.\n",
    "y_train = keras.utils.to_categorical(y_train, num_classes=10)"
   ]
  },
  {
   "cell_type": "markdown",
   "metadata": {},
   "source": [
    "### Building NN Model"
   ]
  },
  {
   "cell_type": "code",
   "execution_count": 120,
   "metadata": {},
   "outputs": [],
   "source": [
    "model = Sequential([Dense(128, input_shape=(784,)), \n",
    "                       Activation('sigmoid'),\n",
    "                       Dense(64),\n",
    "                       Activation('sigmoid'),\n",
    "                       Dense(32),\n",
    "                       Activation('sigmoid'),\n",
    "                       Dense(10),\n",
    "                       Activation('softmax')])\n",
    "opt = SGD(lr=0.1) \n",
    "model.compile(optimizer=opt, loss='categorical_crossentropy', metrics=['accuracy'])"
   ]
  },
  {
   "cell_type": "code",
   "execution_count": 121,
   "metadata": {},
   "outputs": [
    {
     "name": "stdout",
     "output_type": "stream",
     "text": [
      "Train on 60000 samples\n",
      "Epoch 1/10\n",
      "60000/60000 [==============================] - 12s 200us/sample - loss: 1.6648 - accuracy: 0.4411\n",
      "Epoch 2/10\n",
      "60000/60000 [==============================] - 11s 190us/sample - loss: 0.5177 - accuracy: 0.8505\n",
      "Epoch 3/10\n",
      "60000/60000 [==============================] - 11s 187us/sample - loss: 0.3505 - accuracy: 0.8981\n",
      "Epoch 4/10\n",
      "60000/60000 [==============================] - 14s 233us/sample - loss: 0.2801 - accuracy: 0.9188\n",
      "Epoch 5/10\n",
      "60000/60000 [==============================] - 11s 189us/sample - loss: 0.2303 - accuracy: 0.9329\n",
      "Epoch 6/10\n",
      "60000/60000 [==============================] - 11s 186us/sample - loss: 0.1937 - accuracy: 0.9442\n",
      "Epoch 7/10\n",
      "60000/60000 [==============================] - 11s 181us/sample - loss: 0.1671 - accuracy: 0.9517\n",
      "Epoch 8/10\n",
      "60000/60000 [==============================] - 12s 195us/sample - loss: 0.1460 - accuracy: 0.9571\n",
      "Epoch 9/10\n",
      "60000/60000 [==============================] - 14s 239us/sample - loss: 0.1297 - accuracy: 0.9624\n",
      "Epoch 10/10\n",
      "60000/60000 [==============================] - 17s 278us/sample - loss: 0.1167 - accuracy: 0.9664\n"
     ]
    }
   ],
   "source": [
    "model_history = model.fit(X_train, y_train, epochs=10)"
   ]
  },
  {
   "cell_type": "markdown",
   "metadata": {},
   "source": [
    "### Model Evaluation - Without PCA"
   ]
  },
  {
   "cell_type": "code",
   "execution_count": 100,
   "metadata": {},
   "outputs": [
    {
     "data": {
      "text/plain": [
       "<matplotlib.legend.Legend at 0x14f6e6eaec8>"
      ]
     },
     "execution_count": 100,
     "metadata": {},
     "output_type": "execute_result"
    },
    {
     "data": {
      "image/png": "[encoded data removed]",
      "text/plain": [
       "<Figure size 432x288 with 1 Axes>"
      ]
     },
     "metadata": {
      "needs_background": "light"
     },
     "output_type": "display_data"
    }
   ],
   "source": [
    "# Plot MODEL history\n",
    "plt.plot(model_history.history['accuracy'])\n",
    "plt.plot(model_history.history['loss'])\n",
    "plt.title('Model Summary')\n",
    "plt.ylabel('Loss/Accuracy')\n",
    "plt.xlabel('Epoch')\n",
    "plt.legend(['Accuracy', 'Loss'], loc='upper left')"
   ]
  },
  {
   "cell_type": "code",
   "execution_count": 101,
   "metadata": {},
   "outputs": [
    {
     "name": "stdout",
     "output_type": "stream",
     "text": [
      "Test Prediction Accuracy:  100.0 %\n"
     ]
    }
   ],
   "source": [
    "prediction_hot = model.predict(X_test)\n",
    "prediction = []\n",
    "\n",
    "# convert from one-hot to prediction\n",
    "for line in prediction_hot:\n",
    "    prediction.append(np.argmax(line))\n",
    "\n",
    "correct = 0\n",
    "incorrect = 0\n",
    "\n",
    "for i in prediction:\n",
    "    if prediction[i] == y_test[i]:\n",
    "        correct += 1\n",
    "    else:\n",
    "        incorrect += 1\n",
    "\n",
    "accuracy = correct / y_test.shape[0]\n",
    "\n",
    "print('Test Prediction Accuracy: ', accuracy * 100, '%')"
   ]
  },
  {
   "cell_type": "markdown",
   "metadata": {},
   "source": [
    "### Model Evaluation - With PCA"
   ]
  },
  {
   "cell_type": "code",
   "execution_count": 122,
   "metadata": {},
   "outputs": [
    {
     "data": {
      "text/plain": [
       "<matplotlib.legend.Legend at 0x14f2a726908>"
      ]
     },
     "execution_count": 122,
     "metadata": {},
     "output_type": "execute_result"
    },
    {
     "data": {
      "image/png": "[encoded data removed]",
      "text/plain": [
       "<Figure size 432x288 with 1 Axes>"
      ]
     },
     "metadata": {
      "needs_background": "light"
     },
     "output_type": "display_data"
    }
   ],
   "source": [
    "# Plot MODEL history\n",
    "plt.plot(model_history.history['accuracy'])\n",
    "plt.plot(model_history.history['loss'])\n",
    "plt.title('Model Summary')\n",
    "plt.ylabel('Loss/Accuracy')\n",
    "plt.xlabel('Epoch')\n",
    "plt.legend(['Accuracy', 'Loss'], loc='upper left')"
   ]
  },
  {
   "cell_type": "code",
   "execution_count": 123,
   "metadata": {},
   "outputs": [
    {
     "name": "stdout",
     "output_type": "stream",
     "text": [
      "Test Prediction Accuracy:  90.28 %\n"
     ]
    }
   ],
   "source": [
    "prediction_hot = model.predict(X_test)\n",
    "prediction = []\n",
    "\n",
    "# convert from one-hot to prediction\n",
    "for line in prediction_hot:\n",
    "    prediction.append(np.argmax(line))\n",
    "\n",
    "correct = 0\n",
    "incorrect = 0\n",
    "\n",
    "for i in prediction:\n",
    "    if prediction[i] == y_test[i]:\n",
    "        correct += 1\n",
    "    else:\n",
    "        incorrect += 1\n",
    "\n",
    "accuracy = correct / y_test.shape[0]\n",
    "\n",
    "print('Test Prediction Accuracy: ', accuracy * 100, '%')"
   ]
  }
 ],
 "metadata": {
  "kernelspec": {
   "display_name": "Python 3",
   "language": "python",
   "name": "python3"
  },
  "language_info": {
   "codemirror_mode": {
    "name": "ipython",
    "version": 3
   },
   "file_extension": ".py",
   "mimetype": "text/x-python",
   "name": "python",
   "nbconvert_exporter": "python",
   "pygments_lexer": "ipython3",
   "version": "3.7.7"
  }
 },
 "nbformat": 4,
 "nbformat_minor": 2
}
